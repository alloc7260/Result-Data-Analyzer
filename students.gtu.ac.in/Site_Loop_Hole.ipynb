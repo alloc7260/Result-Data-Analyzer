{
  "nbformat": 4,
  "nbformat_minor": 0,
  "metadata": {
    "colab": {
      "provenance": []
    },
    "kernelspec": {
      "name": "python3",
      "display_name": "Python 3"
    },
    "language_info": {
      "name": "python"
    },
    "gpuClass": "standard"
  },
  "cells": [
    {
      "cell_type": "code",
      "source": [
        "import io\n",
        "import json\n",
        "import requests\n",
        "import pandas as pd\n",
        "from PIL import Image\n",
        "from bs4 import BeautifulSoup\n",
        "from IPython.display import display\n",
        "from multiprocessing import Pool"
      ],
      "metadata": {
        "id": "yRrOXaVAIOQH"
      },
      "execution_count": 1,
      "outputs": []
    },
    {
      "cell_type": "code",
      "source": [
        "s = requests.Session()\n",
        "url = \"https://www.students.gtu.ac.in/Handler.ashx\"\n",
        "r = s.get(url)\n",
        "display(Image.open(io.BytesIO(r.content)))\n",
        "r.headers['Set-Cookie'][:r.headers['Set-Cookie'].index(\";\")]"
      ],
      "metadata": {
        "colab": {
          "base_uri": "https://localhost:8080/",
          "height": 76
        },
        "id": "8Q5sonJt1YlO",
        "outputId": "cabea4cf-97e4-4b40-8a1a-515d3b9dab0e"
      },
      "execution_count": 2,
      "outputs": [
        {
          "output_type": "display_data",
          "data": {
            "text/plain": [
              "<PIL.JpegImagePlugin.JpegImageFile image mode=RGB size=120x40 at 0x7FEC983E3FD0>"
            ],
            "image/png": "[encoded data removed]"
          },
          "metadata": {}
        },
        {
          "output_type": "execute_result",
          "data": {
            "text/plain": [
              "'ASP.NET_SessionId=zfqiob1vcpndoo3ckpduog2j'"
            ],
            "application/vnd.google.colaboratory.intrinsic+json": {
              "type": "string"
            }
          },
          "metadata": {},
          "execution_count": 2
        }
      ]
    },
    {
      "cell_type": "code",
      "source": [
        "c = \"16ef\""
      ],
      "metadata": {
        "id": "lrOXyNlMw5a5"
      },
      "execution_count": 3,
      "outputs": []
    },
    {
      "cell_type": "code",
      "source": [
        "url = \"https://www.students.gtu.ac.in/\"\n",
        "\n",
        "headers = {\n",
        "    \"Host\": \"www.students.gtu.ac.in\",\n",
        "    \"Content-Length\": \"683\",\n",
        "    \"Cache-Control\": \"max-age=0\",\n",
        "    \"Sec-Ch-Ua\": \"\\\"Not A(Brand\\\";v=\\\"24\\\", \\\"Chromium\\\";v=\\\"110\\\"\",\n",
        "    \"Sec-Ch-Ua-Mobile\": \"?0\",\n",
        "    \"Sec-Ch-Ua-Platform\": \"\\\"Windows\\\"\",\n",
        "    \"Upgrade-Insecure-Requests\": \"1\",\n",
        "    \"Origin\": \"https://www.students.gtu.ac.in\",\n",
        "    \"Content-Type\": \"application/x-www-form-urlencoded\",\n",
        "    \"User-Agent\": \"Mozilla/5.0 (Windows NT 10.0; Win64; x64) AppleWebKit/537.36 (KHTML, like Gecko) Chrome/110.0.5481.78 Safari/537.36\",\n",
        "    \"Accept\": \"text/html,application/xhtml+xml,application/xml;q=0.9,image/avif,image/webp,image/apng,*/*;q=0.8,application/signed-exchange;v=b3;q=0.7\",\n",
        "    \"Sec-Fetch-Site\": \"same-origin\",\n",
        "    \"Sec-Fetch-Mode\": \"navigate\",\n",
        "    \"Sec-Fetch-User\": \"?1\",\n",
        "    \"Sec-Fetch-Dest\": \"document\",\n",
        "    \"Referer\": \"https://www.students.gtu.ac.in/\",\n",
        "    \"Accept-Encoding\": \"gzip, deflate\",\n",
        "    \"Accept-Language\": \"en-US,en;q=0.9\",\n",
        "    \"Cookie\": r.headers['Set-Cookie'][:r.headers['Set-Cookie'].index(\";\")]\n",
        "}\n",
        "\n",
        "kitoptions = {\n",
        "  \"enable-local-file-access\": None ,\n",
        "}"
      ],
      "metadata": {
        "id": "hAvP3ge_S0VJ"
      },
      "execution_count": 4,
      "outputs": []
    },
    {
      "cell_type": "code",
      "source": [
        "def f1(soup):\n",
        "    soup = BeautifulSoup(str(soup.find(id='TblStdInfo')), 'html.parser')\n",
        "    rows = soup.find_all('tr')\n",
        "    table_data = {}\n",
        "    for row in rows:\n",
        "        cells = row.find_all('td')\n",
        "        if len(cells) == 2:\n",
        "            key = cells[0].text.strip()[:-2]\n",
        "            value = cells[1].text.strip()\n",
        "            table_data[key] = value\n",
        "    return table_data\n",
        "\n",
        "def f2(soup):\n",
        "    soup = BeautifulSoup(str(soup.find(id='div2')), 'html.parser')\n",
        "    tables = soup.find_all('table')\n",
        "    table_data = {}\n",
        "    for table in tables:\n",
        "        rows = table.find_all('tr')\n",
        "        header = [th.text.strip() for th in rows[0].find_all('th')]\n",
        "        for row in rows[1:]:\n",
        "            values = [td.text.strip() for td in row.find_all('td')]\n",
        "            row_data = {}\n",
        "            for i in range(len(header)):\n",
        "                row_data[header[i]] = values[i]\n",
        "            table_data.update(row_data)\n",
        "    return table_data\n",
        "\n",
        "def vtodur(enr):\n",
        "    payload = f\"__EVENTTARGET=&__EVENTARGUMENT=&__VIEWSTATE=%2FwEPDwULLTE1NzM5Mzk0MzkPZBYCAgMPZBYKAgkPDxYCHgRUZXh0ZWRkAgsPFgIeB1Zpc2libGVoZAINDxYCHwFoFgQCAQ88KwARAgEQFgAWABYADBQrAABkAgMPPCsAEQIBEBYAFgAWAAwUKwAAZAIRDzwrABECARAWABYAFgAMFCsAAGQCEw8WAh8BaGQYBAUeX19Db250cm9sc1JlcXVpcmVQb3N0QmFja0tleV9fFgEFBmltZ3JlZgUJR3JpZFZpZXcxD2dkBQtncmR2TGFzdEV4bQ9nZAUFZ3JkdjIPZ2SP4LZcQwZul8DBECEWkW4aVijr8%2B7oo1NkAEpQXnjlTQ%3D%3D&__VIEWSTATEGENERATOR=CA0B0334&__EVENTVALIDATION=%2FwEdAAULuYTcS2Bbv0sXcXqDGFc4ZAOKKrbaqBuZEOgDujbIJE7faODj1tnvTzvom6kOTSTV8jFig0gbXGgleszPUj0LPOaW1pQztoQA36D1w%2F%2BbXYJy%2FQm9%2BLbhUieKyUTwFjkARq6t63XgTobACmevO6Eh&txtEnrollNo={enr}&CodeNumberTextBox={c}&btnSubmit=Search...\"\n",
        "    res = requests.request(\"POST\", url, data=payload, headers=headers).text\n",
        "    soup = BeautifulSoup(res, 'html.parser')\n",
        "    d1 = f1(soup)\n",
        "    d2 = f2(soup)\n",
        "    d1.update(d2)\n",
        "    if d1 == {} : return {'Enrollment No.':enr}\n",
        "    return d1\n",
        "\n",
        "with Pool(15) as pp:\n",
        "  dd = pp.map(vtodur,range(190280111001,190280111160))\n",
        "\n",
        "df = pd.DataFrame(dd)\n",
        "df = df.apply(pd.to_numeric, errors= 'ignore' )\n",
        "df.to_excel(\"op.xlsx\")"
      ],
      "metadata": {
        "id": "oZ_Dorc0gTjM"
      },
      "execution_count": 7,
      "outputs": []
    },
    {
      "cell_type": "markdown",
      "source": [
        "👈 download <font color='yellow'>op.xlsx</font> from left side bar by double clicking it"
      ],
      "metadata": {
        "id": "rmjRmivtlYK4"
      }
    }
  ]
}